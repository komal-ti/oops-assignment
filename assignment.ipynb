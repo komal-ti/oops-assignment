{
 "cells": [
  {
   "cell_type": "markdown",
   "metadata": {},
   "source": [
    "#ques1:\n",
    "# What are the five key concepts of Object-Oriented Programming (OOP)?\n",
    "#ANS:Here’s a simplified explanation of the five key concepts of Object-Oriented Programming (OOP):\n",
    "\n",
    "#1. Classes and Objects:  \n",
    "# Think of a class as a blueprint, like a cookie cutter. It defines what properties and actions the objects (like the cookies) will have. An object is an actual instance of that class, with its own specific values.\n",
    "\n",
    "#2.Encapsulation:  \n",
    "#This is about keeping things bundled together and controlling access. Imagine a TV remote where you can only see and use certain buttons but don’t need to worry about the inner workings. Encapsulation hides the complex details, allowing you to interact with just what you need.\n",
    "\n",
    "#3. Abstraction:  \n",
    "  # Similar to encapsulation, abstraction hides complex details but focuses on showing only the important parts. It’s like using a car without knowing how the engine works. You just know how to drive it, which makes it easier to use.\n",
    "\n",
    "#4. Inheritance:  \n",
    "  # - Inheritance is like passing down traits from parent to child. A child class gets characteristics from a parent class, so you don’t have to recreate everything from scratch. For example, a “Bird” class could have “Can Fly,” and the “Eagle” class, which inherits from “Bird,” would automatically have that trait.\n",
    "\n",
    "#5. Polymorphism:  \n",
    "   #- Polymorphism allows one action to be performed in different ways. It’s like pressing the “play” button on different devices (TV, phone, computer) and each one plays something but in its own way. It enables flexibility so that similar actions can adapt based on the context. \n",
    "\n"
   ]
  },
  {
   "cell_type": "markdown",
   "metadata": {},
   "source": [
    "Ques2:Write a Python class for a `Car` with attributes for `make`, `model`, and `year`. Include a method to display\n",
    "the car's information."
   ]
  },
  {
   "cell_type": "code",
   "execution_count": 23,
   "metadata": {},
   "outputs": [
    {
     "name": "stdout",
     "output_type": "stream",
     "text": [
      "2020 Toyota Camry\n"
     ]
    }
   ],
   "source": [
    "#ANS:\n",
    "class Car:\n",
    "    def __init__(self, make, model, year):\n",
    "        self.make = make\n",
    "        self.model = model\n",
    "        self.year = year\n",
    "\n",
    "    def display_info(self):\n",
    "        print(f\"{self.year} {self.make} {self.model}\")\n",
    "\n",
    "# Example usage\n",
    "my_car = Car(\"Toyota\", \"Camry\", 2020)\n",
    "my_car.display_info()  \n"
   ]
  },
  {
   "cell_type": "markdown",
   "metadata": {},
   "source": [
    "Ques3:Explain the difference between instance methods and class methods. Provide an example of each\n"
   ]
  },
  {
   "cell_type": "code",
   "execution_count": 24,
   "metadata": {},
   "outputs": [
    {
     "name": "stdout",
     "output_type": "stream",
     "text": [
      "2020 Toyota Camry\n",
      "2\n"
     ]
    },
    {
     "data": {
      "text/plain": [
       "'In this example:\\n1.`get_total_cars` is a class method, indicated by the `@classmethod` decorator.\\n2.It accesses `total_cars`, a class-level variable, through `cls` to return the total number of `Car` instances created.\\n Key Differences:\\n \\n\\n| Feature              | Instance Method                           | Class Method                             |\\n|----------------------|-------------------------------------------|------------------------------------------|\\n| First Parameter      | `self` (instance)                        | `cls` (class)                            |\\n| Access to Instance   | Yes                                      | No                                       |\\n| Access to Class Data | Limited to instance-level attributes     | Full access to class-level attributes    |\\n| Decorator Required   | No                                       | Yes, `@classmethod`                      |'"
      ]
     },
     "execution_count": 24,
     "metadata": {},
     "output_type": "execute_result"
    }
   ],
   "source": [
    "#Ans:\n",
    "'''In Python, instance methods and class methods differ primarily in how they interact with class data and in what they represent within the class.\n",
    "\n",
    " Instance Methods:\n",
    "1.Instance methods are methods that operate on individual instances of a class.\n",
    "2. They take `self` as the first parameter, which represents the instance calling the method.\n",
    "3. These methods can access and modify object-specific data (instance variables).\n",
    "\n",
    "Example of an Instance Method:'''\n",
    "\n",
    "class Car:\n",
    "    def __init__(self, make, model, year):\n",
    "        self.make = make\n",
    "        self.model = model\n",
    "        self.year = year\n",
    "\n",
    "    def display_info(self):\n",
    "        print(f\"{self.year} {self.make} {self.model}\")\n",
    "\n",
    "# Usage\n",
    "my_car = Car(\"Toyota\", \"Camry\", 2020)\n",
    "my_car.display_info()  \n",
    "\n",
    "'''Here, `display_info` is an instance method that uses `self` to access and print information specific to the `my_car` instance.\n",
    "\n",
    "Class Methods:\n",
    "1. Class methods, on the other hand, operate on the class itself, not on individual instances.\n",
    "2. They take `cls` as the first parameter, which represents the class, allowing them to access and modify class-level data shared across all instances.\n",
    "3. Class methods are defined using the `@classmethod` decorator.\n",
    "\n",
    "Example of a Class Method:'''\n",
    "\n",
    "\n",
    "class Car:\n",
    "    total_cars = 0  # Class variable shared by all instances\n",
    "\n",
    "    def __init__(self, make, model, year):\n",
    "        self.make = make\n",
    "        self.model = model\n",
    "        self.year = year\n",
    "        Car.total_cars += 1\n",
    "\n",
    "    @classmethod\n",
    "    def get_total_cars(cls):\n",
    "        return cls.total_cars\n",
    "\n",
    "# Usage\n",
    "car1 = Car(\"Toyota\", \"Camry\", 2020)\n",
    "car2 = Car(\"Honda\", \"Accord\", 2021)\n",
    "\n",
    "print(Car.get_total_cars())  \n",
    "\n",
    "\n",
    "'''In this example:\n",
    "1.`get_total_cars` is a class method, indicated by the `@classmethod` decorator.\n",
    "2.It accesses `total_cars`, a class-level variable, through `cls` to return the total number of `Car` instances created.\n",
    " Key Differences:\n",
    " \n",
    "\n",
    "| Feature              | Instance Method                           | Class Method                             |\n",
    "|----------------------|-------------------------------------------|------------------------------------------|\n",
    "| First Parameter      | `self` (instance)                        | `cls` (class)                            |\n",
    "| Access to Instance   | Yes                                      | No                                       |\n",
    "| Access to Class Data | Limited to instance-level attributes     | Full access to class-level attributes    |\n",
    "| Decorator Required   | No                                       | Yes, `@classmethod`                      |'''\n",
    "\n",
    "\n"
   ]
  },
  {
   "cell_type": "markdown",
   "metadata": {},
   "source": [
    "Ques4: How does Python implement method overloading? Give an example.\n",
    "Ans:Python doesn’t support traditional method overloading like some other languages (e.g., Java, C++), where you can define multiple methods with the same name but different parameters. Instead, Python handles this by allowing default parameters and variable-length arguments"
   ]
  },
  {
   "cell_type": "code",
   "execution_count": 25,
   "metadata": {},
   "outputs": [
    {
     "name": "stdout",
     "output_type": "stream",
     "text": [
      "5\n",
      "15\n"
     ]
    }
   ],
   "source": [
    "#Using Default Arguments:\n",
    "class Calculator:\n",
    "    def add(self, a, b=0):\n",
    "        return a + b\n",
    "\n",
    "calc = Calculator()\n",
    "print(calc.add(5))       \n",
    "print(calc.add(5, 10))   \n"
   ]
  },
  {
   "cell_type": "code",
   "execution_count": 26,
   "metadata": {},
   "outputs": [
    {
     "name": "stdout",
     "output_type": "stream",
     "text": [
      "5\n",
      "15\n",
      "30\n"
     ]
    }
   ],
   "source": [
    "#Using Variable-Length Arguments (*args):\n",
    "class Calculator:\n",
    "    def add(self, *args):\n",
    "        return sum(args)\n",
    "\n",
    "calc = Calculator()\n",
    "print(calc.add(5))            \n",
    "print(calc.add(5, 10))        \n",
    "print(calc.add(5, 10, 15))    \n"
   ]
  },
  {
   "cell_type": "code",
   "execution_count": 27,
   "metadata": {},
   "outputs": [
    {
     "name": "stdout",
     "output_type": "stream",
     "text": [
      "5\n",
      "15\n"
     ]
    }
   ],
   "source": [
    "#Using Type Checking for Conditional Logic:\n",
    "class Calculator:\n",
    "    def add(self, a, b=None):\n",
    "        if b is None:\n",
    "            return a  # If only one argument, return it\n",
    "        return a + b  # If two arguments, add them\n",
    "\n",
    "calc = Calculator()\n",
    "print(calc.add(5))      \n",
    "print(calc.add(5, 10))  \n"
   ]
  },
  {
   "cell_type": "markdown",
   "metadata": {},
   "source": [
    "Ques5:What are the three types of access modifiers in Python? How are they denoted?\n",
    "Ans:Python doesn’t have explicit access modifiers like public, protected, or private as in some other languages. Instead, it relies on naming conventions to indicate the intended level of access. Here are the three types commonly used:\n",
    "\n",
    "Public:\n",
    "\n",
    "Attributes and methods that are meant to be accessible from outside the class.\n",
    "In Python, all members are public by default if no special notation is used.\n"
   ]
  },
  {
   "cell_type": "code",
   "execution_count": 28,
   "metadata": {},
   "outputs": [],
   "source": [
    "#Notation: No underscore prefix:\n",
    "class Example:\n",
    "    def __init__(self):\n",
    "        self.public_attribute = \"I am public\"\n",
    "    \n",
    "    def public_method(self):\n",
    "        print(\"This is a public method.\")\n"
   ]
  },
  {
   "cell_type": "code",
   "execution_count": 29,
   "metadata": {},
   "outputs": [],
   "source": [
    "c1 = Example()"
   ]
  },
  {
   "cell_type": "code",
   "execution_count": 30,
   "metadata": {},
   "outputs": [
    {
     "name": "stdout",
     "output_type": "stream",
     "text": [
      "I am public\n"
     ]
    }
   ],
   "source": [
    "print(c1.public_attribute)"
   ]
  },
  {
   "cell_type": "code",
   "execution_count": 31,
   "metadata": {},
   "outputs": [
    {
     "name": "stdout",
     "output_type": "stream",
     "text": [
      "This is a public method.\n"
     ]
    }
   ],
   "source": [
    "c1.public_method()"
   ]
  },
  {
   "cell_type": "markdown",
   "metadata": {},
   "source": [
    "Private:\n",
    "1.Attributes and methods meant to be used only within the class itself. Python performs \"name mangling\" to make it harder to access these members from outside the class.\n",
    "2.Notation: Double underscore prefix (__attribute_name).\n",
    "3.Name mangling changes the member name internally to _ClassName__attribute_name, helping to avoid accidental access. However, it can still be accessed with this modified name if necessary."
   ]
  },
  {
   "cell_type": "code",
   "execution_count": 39,
   "metadata": {},
   "outputs": [],
   "source": [
    "class Example:\n",
    "    def __init__(self):\n",
    "        self.__private_attribute = \"I am private\"\n",
    "    \n",
    "    def __private_method(self):\n",
    "        print(\"This is a private method.\")\n"
   ]
  },
  {
   "cell_type": "code",
   "execution_count": 33,
   "metadata": {},
   "outputs": [],
   "source": [
    "c1 = Example()"
   ]
  },
  {
   "cell_type": "code",
   "execution_count": 37,
   "metadata": {},
   "outputs": [
    {
     "name": "stdout",
     "output_type": "stream",
     "text": [
      "I am private\n"
     ]
    }
   ],
   "source": [
    "print(c1._Example__private_attribute)"
   ]
  },
  {
   "cell_type": "code",
   "execution_count": 41,
   "metadata": {},
   "outputs": [
    {
     "name": "stdout",
     "output_type": "stream",
     "text": [
      "This is a private method.\n"
     ]
    }
   ],
   "source": [
    "c1._Example__private_method()"
   ]
  },
  {
   "cell_type": "markdown",
   "metadata": {},
   "source": [
    "Protected:\n",
    "\n",
    "1.Attributes and methods intended to be accessed only within the class and its subclasses, though they are not strictly enforced as in other languages.\n",
    "2.Notation: A single underscore prefix (_attribute_name).\n",
    "3.By convention, a single underscore hints that these members shouldn’t be accessed outside the class, but Python doesn’t enforce this restriction"
   ]
  },
  {
   "cell_type": "code",
   "execution_count": 42,
   "metadata": {},
   "outputs": [],
   "source": [
    "class Example:\n",
    "    def __init__(self):\n",
    "        self._protected_attribute = \"I am protected\"\n",
    "    \n",
    "    def _protected_method(self):\n",
    "        print(\"This is a protected method.\")\n"
   ]
  },
  {
   "cell_type": "code",
   "execution_count": 43,
   "metadata": {},
   "outputs": [],
   "source": [
    "c1 = Example()"
   ]
  },
  {
   "cell_type": "code",
   "execution_count": 46,
   "metadata": {},
   "outputs": [
    {
     "name": "stdout",
     "output_type": "stream",
     "text": [
      "I am protected\n"
     ]
    }
   ],
   "source": [
    "print(c1._protected_attribute)"
   ]
  },
  {
   "cell_type": "code",
   "execution_count": 48,
   "metadata": {},
   "outputs": [
    {
     "name": "stdout",
     "output_type": "stream",
     "text": [
      "This is a protected method.\n"
     ]
    }
   ],
   "source": [
    "c1._protected_method()"
   ]
  },
  {
   "cell_type": "markdown",
   "metadata": {},
   "source": [
    "Ques6: Describe the five types of inheritance in Python. Provide a simple example of multiple inheritance.\n",
    "Ans:nheritance allows one class to inherit properties and behaviors (methods) from another class. There are five types of inheritance in Python"
   ]
  },
  {
   "cell_type": "code",
   "execution_count": 49,
   "metadata": {},
   "outputs": [
    {
     "name": "stdout",
     "output_type": "stream",
     "text": [
      "Bark\n"
     ]
    }
   ],
   "source": [
    "#Single Inheritance:In single inheritance, a class inherits from one parent class\n",
    "class Animal:\n",
    "    def sound(self):\n",
    "        print(\"Animal sound\")\n",
    "\n",
    "class Dog(Animal):\n",
    "    def sound(self):\n",
    "        print(\"Bark\")\n",
    "\n",
    "dog = Dog()\n",
    "dog.sound()  \n"
   ]
  },
  {
   "cell_type": "code",
   "execution_count": 50,
   "metadata": {},
   "outputs": [
    {
     "name": "stdout",
     "output_type": "stream",
     "text": [
      "Bark\n",
      "Mammal walks\n"
     ]
    }
   ],
   "source": [
    "#Multiple Inheritance:Multiple inheritance occurs when a class inherits from more than one parent class.\n",
    "class Animal:\n",
    "    def sound(self):\n",
    "        print(\"Animal sound\")\n",
    "\n",
    "class Mammal:\n",
    "    def walk(self):\n",
    "        print(\"Mammal walks\")\n",
    "\n",
    "class Dog(Animal, Mammal):\n",
    "    def sound(self):\n",
    "        print(\"Bark\")\n",
    "\n",
    "dog = Dog()\n",
    "dog.sound()  \n",
    "dog.walk()   \n"
   ]
  },
  {
   "cell_type": "code",
   "execution_count": 51,
   "metadata": {},
   "outputs": [
    {
     "name": "stdout",
     "output_type": "stream",
     "text": [
      "Puppy bark\n"
     ]
    }
   ],
   "source": [
    "#Multilevel Inheritance:In multilevel inheritance, a class inherits from a parent class, and another class inherits from that child class, forming a chain.\n",
    "class Animal:\n",
    "    def sound(self):\n",
    "        print(\"Animal sound\")\n",
    "\n",
    "class Dog(Animal):\n",
    "    def sound(self):\n",
    "        print(\"Bark\")\n",
    "\n",
    "class Puppy(Dog):\n",
    "    def sound(self):\n",
    "        print(\"Puppy bark\")\n",
    "\n",
    "puppy = Puppy()\n",
    "puppy.sound()  \n"
   ]
  },
  {
   "cell_type": "code",
   "execution_count": 52,
   "metadata": {},
   "outputs": [
    {
     "name": "stdout",
     "output_type": "stream",
     "text": [
      "Bark\n",
      "Meow\n"
     ]
    }
   ],
   "source": [
    "#Hierarchical Inheritance:In hierarchical inheritance, one parent class is inherited by multiple child classes\n",
    "class Animal:\n",
    "    def sound(self):\n",
    "        print(\"Animal sound\")\n",
    "\n",
    "class Dog(Animal):\n",
    "    def sound(self):\n",
    "        print(\"Bark\")\n",
    "\n",
    "class Cat(Animal):\n",
    "    def sound(self):\n",
    "        print(\"Meow\")\n",
    "\n",
    "dog = Dog()\n",
    "cat = Cat()\n",
    "dog.sound()  \n",
    "cat.sound()  \n"
   ]
  },
  {
   "cell_type": "code",
   "execution_count": 53,
   "metadata": {},
   "outputs": [
    {
     "name": "stdout",
     "output_type": "stream",
     "text": [
      "Screech\n",
      "Mammal walks\n",
      "Bird flies\n"
     ]
    }
   ],
   "source": [
    "# Hybrid Inheritance:\n",
    "#Hybrid inheritance is a combination of two or more types of inheritance. This can result in complex relationships, such as combining multiple and multilevel inheritance\n",
    "class Animal:\n",
    "    def sound(self):\n",
    "        print(\"Animal sound\")\n",
    "\n",
    "class Mammal(Animal):\n",
    "    def walk(self):\n",
    "        print(\"Mammal walks\")\n",
    "\n",
    "class Bird(Animal):\n",
    "    def fly(self):\n",
    "        print(\"Bird flies\")\n",
    "\n",
    "class Bat(Mammal, Bird):  # Hybrid Inheritance\n",
    "    def sound(self):\n",
    "        print(\"Screech\")\n",
    "\n",
    "bat = Bat()\n",
    "bat.sound()  \n",
    "bat.walk()   \n",
    "bat.fly()    \n"
   ]
  },
  {
   "cell_type": "markdown",
   "metadata": {},
   "source": [
    "Ques7What is the Method Resolution Order (MRO) in Python? How can you retrieve it programmatically?\n",
    "Ans:Method Resolution Order (MRO) in Python is the order in which Python searches for methods in a class hierarchy, especially in cases of multiple inheritance. It ensures that Python looks through classes in a specific order to find the method, avoiding conflicts when classes have methods with the same name.\n",
    "\n",
    "How MRO Works:\n",
    "1.Python searches for a method in the current class, then in its parent classes, based on a well-defined order.\n",
    "2.In multiple inheritance, Python follows a consistent order to avoid confusion."
   ]
  },
  {
   "cell_type": "code",
   "execution_count": 56,
   "metadata": {},
   "outputs": [
    {
     "name": "stdout",
     "output_type": "stream",
     "text": [
      "[<class '__main__.D'>, <class '__main__.B'>, <class '__main__.C'>, <class '__main__.A'>, <class 'object'>]\n"
     ]
    }
   ],
   "source": [
    "#How to Check MRO:\n",
    "#mro() method:\n",
    "print(D.mro())\n"
   ]
  },
  {
   "cell_type": "code",
   "execution_count": null,
   "metadata": {},
   "outputs": [
    {
     "name": "stdout",
     "output_type": "stream",
     "text": [
      "[<class '__main__.D'>, <class '__main__.B'>, <class '__main__.C'>, <class '__main__.A'>, <class 'object'>]\n"
     ]
    }
   ],
   "source": [
    "class A:\n",
    "    def method(self):\n",
    "        print(\"Method in A\")\n",
    "\n",
    "class B(A):\n",
    "    def method(self):\n",
    "        print(\"Method in B\")\n",
    "\n",
    "class C(A):\n",
    "    def method(self):\n",
    "        print(\"Method in C\")\n",
    "\n",
    "class D(B, C):\n",
    "    pass\n",
    "\n",
    "# Check MRO\n",
    "print(D.mro())  \n"
   ]
  },
  {
   "cell_type": "markdown",
   "metadata": {},
   "source": [
    "Ques8:Create an abstract base class `Shape` with an abstract method `area()`. Then create two subclasses\n",
    "`Circle` and `Rectangle` that implement the `area()` method.\n",
    "Ans:\n",
    "To create an abstract base class Shape with an abstract method area(), we can use the abc module in Python, which provides tools for defining abstract base classes.\n",
    "\n",
    "Here’s the implementation:\n",
    "\n",
    "1. Abstract Base Class Shape:\n",
    "The Shape class will have an abstract method area() that must be implemented by any subclass.\n",
    "\n",
    "2. Subclasses Circle and Rectangle:\n",
    "These subclasses will implement the area() method based on their specific shapes."
   ]
  },
  {
   "cell_type": "code",
   "execution_count": 57,
   "metadata": {},
   "outputs": [
    {
     "name": "stdout",
     "output_type": "stream",
     "text": [
      "Area of Circle: 78.53981633974483\n",
      "Area of Rectangle: 24\n"
     ]
    }
   ],
   "source": [
    "#example:\n",
    "from abc import ABC, abstractmethod\n",
    "import math\n",
    "\n",
    "# Abstract base class\n",
    "class Shape(ABC):\n",
    "    @abstractmethod\n",
    "    def area(self):\n",
    "        pass\n",
    "\n",
    "# Subclass Circle\n",
    "class Circle(Shape):\n",
    "    def __init__(self, radius):\n",
    "        self.radius = radius\n",
    "\n",
    "    def area(self):\n",
    "        return math.pi * self.radius ** 2\n",
    "\n",
    "# Subclass Rectangle\n",
    "class Rectangle(Shape):\n",
    "    def __init__(self, length, width):\n",
    "        self.length = length\n",
    "        self.width = width\n",
    "\n",
    "    def area(self):\n",
    "        return self.length * self.width\n",
    "\n",
    "# Testing the classes\n",
    "circle = Circle(5)\n",
    "print(f\"Area of Circle: {circle.area()}\")  \n",
    "\n",
    "rectangle = Rectangle(4, 6)\n",
    "print(f\"Area of Rectangle: {rectangle.area()}\")  \n"
   ]
  },
  {
   "cell_type": "markdown",
   "metadata": {},
   "source": [
    "Ques9:Demonstrate polymorphism by creating a function that can work with different shape objects to calculate\n",
    "and print their areas\n",
    "Ans:\n",
    "Polymorphism in Python allows different objects to respond to the same method in a way that is appropriate for each object. In this case, we can create a function that calculates and prints the area of different shape objects (such as Circle and Rectangle), utilizing the polymorphic behavior of the area() method."
   ]
  },
  {
   "cell_type": "code",
   "execution_count": 58,
   "metadata": {},
   "outputs": [
    {
     "name": "stdout",
     "output_type": "stream",
     "text": [
      "Area of Circle: 78.53981633974483\n",
      "Area of Rectangle: 24\n"
     ]
    }
   ],
   "source": [
    "#from abc import ABC, abstractmethod\n",
    "import math\n",
    "\n",
    "# Abstract base class\n",
    "class Shape(ABC):\n",
    "    @abstractmethod\n",
    "    def area(self):\n",
    "        pass\n",
    "\n",
    "# Subclass Circle\n",
    "class Circle(Shape):\n",
    "    def __init__(self, radius):\n",
    "        self.radius = radius\n",
    "\n",
    "    def area(self):\n",
    "        return math.pi * self.radius ** 2\n",
    "\n",
    "# Subclass Rectangle\n",
    "class Rectangle(Shape):\n",
    "    def __init__(self, length, width):\n",
    "        self.length = length\n",
    "        self.width = width\n",
    "\n",
    "    def area(self):\n",
    "        return self.length * self.width\n",
    "\n",
    "# Function that demonstrates polymorphism by working with different shapes\n",
    "def print_area(shape):\n",
    "    print(f\"Area of {shape.__class__.__name__}: {shape.area()}\")\n",
    "\n",
    "# Create objects of Circle and Rectangle\n",
    "circle = Circle(5)\n",
    "rectangle = Rectangle(4, 6)\n",
    "\n",
    "# Call the function with different shape objects\n",
    "print_area(circle)       \n",
    "print_area(rectangle)    \n"
   ]
  },
  {
   "cell_type": "markdown",
   "metadata": {},
   "source": [
    "Ques10: Implement encapsulation in a `BankAccount` class with private attributes for `balance` and\n",
    "`account_number`. Include methods for deposit, withdrawal, and balance inquiry.\n",
    "Ans:\n",
    "In Python, encapsulation refers to restricting access to certain details of an object's attributes and methods to prevent external manipulation. This is typically done by making attributes private (using double underscores __) and providing public methods (getters and setters) to access or modify them."
   ]
  },
  {
   "cell_type": "code",
   "execution_count": 59,
   "metadata": {},
   "outputs": [
    {
     "name": "stdout",
     "output_type": "stream",
     "text": [
      "Deposited 500. New balance: 1500\n",
      "Withdrew 200. New balance: 1300\n",
      "Account Balance: 1300\n"
     ]
    }
   ],
   "source": [
    "#example:\n",
    "class BankAccount:\n",
    "    def __init__(self, account_number, initial_balance=0):\n",
    "        self.__account_number = account_number   # Private attribute\n",
    "        self.__balance = initial_balance         # Private attribute\n",
    "\n",
    "    # Deposit method to add money to the balance\n",
    "    def deposit(self, amount):\n",
    "        if amount > 0:\n",
    "            self.__balance += amount\n",
    "            print(f\"Deposited {amount}. New balance: {self.__balance}\")\n",
    "        else:\n",
    "            print(\"Deposit amount must be positive.\")\n",
    "\n",
    "    # Withdrawal method to subtract money from the balance\n",
    "    def withdraw(self, amount):\n",
    "        if 0 < amount <= self.__balance:\n",
    "            self.__balance -= amount\n",
    "            print(f\"Withdrew {amount}. New balance: {self.__balance}\")\n",
    "        else:\n",
    "            print(\"Insufficient funds or invalid amount.\")\n",
    "\n",
    "    # Method to get the current balance\n",
    "    def get_balance(self):\n",
    "        return self.__balance\n",
    "\n",
    "    # Method to get the account number\n",
    "    def get_account_number(self):\n",
    "        return self.__account_number\n",
    "\n",
    "# Creating a BankAccount object\n",
    "account = BankAccount(\"123456789\", 1000)\n",
    "\n",
    "# Using the methods\n",
    "account.deposit(500)          \n",
    "account.withdraw(200)         \n",
    "print(f\"Account Balance: {account.get_balance()}\")\n"
   ]
  },
  {
   "cell_type": "markdown",
   "metadata": {},
   "source": [
    "Ques11:Write a class that overrides the `__str__` and `__add__` magic methods. What will these methods allow\n",
    "you to do?\n",
    "Ans:In Python, magic methods (also known as dunder methods) allow you to define special behavior for your custom objects. Two commonly used magic methods are __str__ and __add__.\n",
    "\n",
    "__str__: This method allows you to define how an object should be represented as a string when using the str() function or when printing the object.\n",
    "\n",
    "__add__: This method allows you to define the behavior of the + operator when used with instances of your class. This means you can customize how objects of your class are added together.\n",
    "\n",
    "Example: A Point class\n",
    "We will create a class Point that represents a 2D point with x and y coordinates. We will override:\n",
    "\n",
    "__str__: to return a string representation of the point (e.g., \"Point(3, 4)\").\n",
    "__add__: to allow adding two Point objects together by adding their corresponding x and y coordinates"
   ]
  },
  {
   "cell_type": "code",
   "execution_count": 64,
   "metadata": {},
   "outputs": [
    {
     "name": "stdout",
     "output_type": "stream",
     "text": [
      "Point(3, 4)\n",
      "Point(1, 2)\n",
      "Point(4, 6)\n"
     ]
    }
   ],
   "source": [
    "#example:class Point:\n",
    "def __init__(self, x, y):\n",
    "        self.x = x\n",
    "        self.y = y\n",
    "\n",
    "    # Override __str__ to return a string representation of the object\n",
    "def __str__(self):\n",
    "        return f\"Point({self.x}, {self.y})\"\n",
    "\n",
    "    # Override __add__ to allow adding two Point objects\n",
    "def __add__(self, other):\n",
    "        if isinstance(other, Point):\n",
    "            return Point(self.x + other.x, self.y + other.y)\n",
    "        return NotImplemented\n",
    "\n",
    "# Create Point objects\n",
    "point1 = Point(3, 4)\n",
    "point2 = Point(1, 2)\n",
    "\n",
    "# Print the Point objects (uses __str__)\n",
    "print(point1)  \n",
    "print(point2)  \n",
    "\n",
    "# Add two Point objects (uses __add__)\n",
    "point3 = point1 + point2\n",
    "print(point3)  \n"
   ]
  },
  {
   "cell_type": "markdown",
   "metadata": {},
   "source": [
    "Ques12:Create a decorator that measures and prints the execution time of a function\n",
    "In Python, decorators are functions that modify the behavior of other functions or methods. To create a decorator that measures and prints the execution time of a function, we can use the time module to record the start and end times, and then calculate the difference."
   ]
  },
  {
   "cell_type": "code",
   "execution_count": 65,
   "metadata": {},
   "outputs": [
    {
     "name": "stdout",
     "output_type": "stream",
     "text": [
      "Execution time of slow_function: 2.000986 seconds\n",
      "Execution time of fast_function: 0.500387 seconds\n"
     ]
    }
   ],
   "source": [
    "#example:\n",
    "import time\n",
    "\n",
    "# Decorator function to measure execution time\n",
    "def measure_time(func):\n",
    "    def wrapper(*args, **kwargs):\n",
    "        start_time = time.time()  # Record start time\n",
    "        result = func(*args, **kwargs)  # Call the original function\n",
    "        end_time = time.time()  # Record end time\n",
    "        execution_time = end_time - start_time  # Calculate execution time\n",
    "        print(f\"Execution time of {func.__name__}: {execution_time:.6f} seconds\")\n",
    "        return result\n",
    "    return wrapper\n",
    "\n",
    "# Example function to demonstrate the decorator\n",
    "@measure_time\n",
    "def slow_function():\n",
    "    time.sleep(2)  # Simulate a slow function (sleep for 2 seconds)\n",
    "\n",
    "@measure_time\n",
    "def fast_function():\n",
    "    time.sleep(0.5)  # Simulate a faster function (sleep for 0.5 seconds)\n",
    "\n",
    "# Call the functions\n",
    "slow_function()  \n",
    "fast_function()  \n"
   ]
  },
  {
   "cell_type": "markdown",
   "metadata": {},
   "source": [
    "Ques13:Explain the concept of the Diamond Problem in multiple inheritance. How does Python resolve it?\n",
    "Ans:The Diamond Problem is a complication that arises in object-oriented programming (OOP) when a class inherits from two classes that both inherit from the same base class. It creates ambiguity in the method resolution order, as it’s unclear which method should be called when both parent classes define a method with the same name.\n",
    "\n",
    "The Diamond Problem Explained\n",
    "Consider the following class hierarchy:\n",
    "\n",
    "css\n",
    "Copy code\n",
    "        A\n",
    "       / \\\n",
    "      B   C\n",
    "       \\ /\n",
    "        D\n",
    "Class A is the base class.\n",
    "Classes B and C both inherit from A.\n",
    "Class D inherits from both B and C.\n",
    "Now, if class B and class C both override a method from A, and class D calls that method, there’s ambiguity: which method should D inherit from? The one in B, the one in C, or the one in A?\n",
    "\n",
    "This situation can lead to issues in languages that don’t handle the problem carefully."
   ]
  },
  {
   "cell_type": "code",
   "execution_count": 67,
   "metadata": {},
   "outputs": [
    {
     "name": "stdout",
     "output_type": "stream",
     "text": [
      "Method in B\n"
     ]
    }
   ],
   "source": [
    "class A:\n",
    "    def method(self):\n",
    "        print(\"Method in A\")\n",
    "\n",
    "class B(A):\n",
    "    def method(self):\n",
    "        print(\"Method in B\")\n",
    "\n",
    "class C(A):\n",
    "    def method(self):\n",
    "        print(\"Method in C\")\n",
    "\n",
    "class D(B, C):\n",
    "    pass\n",
    "\n",
    "d = D()\n",
    "d.method()  # Which method will be called?\n"
   ]
  },
  {
   "cell_type": "markdown",
   "metadata": {},
   "source": [
    "How Python Resolves the Diamond Problem\n",
    "Python uses the C3 Linearization Algorithm (or C3 superclass linearization) to resolve the Diamond Problem. This algorithm determines the order in which classes are considered for method resolution (MRO).\n",
    "\n",
    "Python's approach ensures a consistent, predictable order for method resolution. The method resolution order (MRO) is calculated by Python based on the class hierarchy.\n",
    "\n",
    "MRO and the C3 Linearization\n",
    "The C3 Linearization works by maintaining a depth-first, left-to-right order for the classes, while respecting the inheritance graph and avoiding conflicts. It follows these rules:\n",
    "\n",
    "Start from the current class.\n",
    "Move up to the parents in a left-to-right order, following the inheritance path.\n",
    "Ensure that each class appears only once in the final MRO.\n",
    "If there’s a conflict, the method resolution favors the class on the left side (as defined by the inheritance order)."
   ]
  },
  {
   "cell_type": "markdown",
   "metadata": {},
   "source": [
    "QUES14: Write a class method that keeps track of the number of instances created from a class.\n",
    "Ans:To keep track of the number of instances created from a class, you can use a class variable. A class variable is shared among all instances of the class, meaning it can be used to store data that is common to all objects of that class.\n",
    "\n",
    "To achieve this, we can:\n",
    "\n",
    "Define a class variable to store the count of instances.\n",
    "Use the __init__ method to increment the count whenever a new instance is created.\n",
    "Optionally, define a class method to retrieve the count of instances"
   ]
  },
  {
   "cell_type": "code",
   "execution_count": 68,
   "metadata": {},
   "outputs": [
    {
     "name": "stdout",
     "output_type": "stream",
     "text": [
      "Number of instances created: 3\n"
     ]
    }
   ],
   "source": [
    "#example:\n",
    "class MyClass:\n",
    "    # Class variable to keep track of the number of instances\n",
    "    instance_count = 0\n",
    "    \n",
    "    def __init__(self):\n",
    "        # Increment the instance count whenever a new object is created\n",
    "        MyClass.instance_count += 1\n",
    "    \n",
    "    # Class method to get the current count of instances\n",
    "    @classmethod\n",
    "    def get_instance_count(cls):\n",
    "        return cls.instance_count\n",
    "\n",
    "# Creating instances of MyClass\n",
    "obj1 = MyClass()\n",
    "obj2 = MyClass()\n",
    "obj3 = MyClass()\n",
    "\n",
    "# Calling the class method to get the number of instances created\n",
    "print(f\"Number of instances created: {MyClass.get_instance_count()}\")\n"
   ]
  },
  {
   "cell_type": "markdown",
   "metadata": {},
   "source": [
    "Ques15:Implement a static method in a class that checks if a given year is a leap year.\n",
    "Ans:\n",
    "In Python, a static method is a method that belongs to the class rather than any specific instance. It does not require access to the instance (self) or class (cls) and is often used for utility functions that are related to the class but don't require access to its attributes.\n",
    "\n",
    "To implement a static method that checks if a given year is a leap year, we can follow the leap year rule:\n",
    "\n",
    "A year is a leap year if it is divisible by 4, but not divisible by 100, unless it is also divisible by 400."
   ]
  },
  {
   "cell_type": "code",
   "execution_count": 70,
   "metadata": {},
   "outputs": [
    {
     "name": "stdout",
     "output_type": "stream",
     "text": [
      "True\n",
      "False\n",
      "True\n",
      "False\n"
     ]
    }
   ],
   "source": [
    "class YearUtils:\n",
    "    \n",
    "    @staticmethod\n",
    "    def is_leap_year(year):\n",
    "        # Check if the year is a leap year using the leap year rules\n",
    "        if (year % 4 == 0 and year % 100 != 0) or (year % 400 == 0):\n",
    "            return True\n",
    "        return False\n",
    "\n",
    "# Testing the static method\n",
    "print(YearUtils.is_leap_year(2024))  # True\n",
    "print(YearUtils.is_leap_year(2023))  # False\n",
    "print(YearUtils.is_leap_year(2000))  # True\n",
    "print(YearUtils.is_leap_year(1900))  # False\n"
   ]
  },
  {
   "cell_type": "code",
   "execution_count": null,
   "metadata": {},
   "outputs": [],
   "source": []
  }
 ],
 "metadata": {
  "kernelspec": {
   "display_name": "Python 3",
   "language": "python",
   "name": "python3"
  },
  "language_info": {
   "codemirror_mode": {
    "name": "ipython",
    "version": 3
   },
   "file_extension": ".py",
   "mimetype": "text/x-python",
   "name": "python",
   "nbconvert_exporter": "python",
   "pygments_lexer": "ipython3",
   "version": "3.12.6"
  }
 },
 "nbformat": 4,
 "nbformat_minor": 2
}
